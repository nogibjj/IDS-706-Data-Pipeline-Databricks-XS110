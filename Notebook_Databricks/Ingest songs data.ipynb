{
 "cells": [
  {
   "cell_type": "code",
   "execution_count": 0,
   "metadata": {
    "application/vnd.databricks.v1+cell": {
     "cellMetadata": {
      "byteLimit": 2048000,
      "rowLimit": 10000
     },
     "inputWidgets": {},
     "nuid": "c66b5881-9bfd-4c77-a7b8-e12636c5c2da",
     "showTitle": false,
     "title": ""
    }
   },
   "outputs": [
    {
     "output_type": "display_data",
     "data": {
      "text/html": [
       "<style scoped>\n",
       "  .table-result-container {\n",
       "    max-height: 300px;\n",
       "    overflow: auto;\n",
       "  }\n",
       "  table, th, td {\n",
       "    border: 1px solid black;\n",
       "    border-collapse: collapse;\n",
       "  }\n",
       "  th, td {\n",
       "    padding: 5px;\n",
       "  }\n",
       "  th {\n",
       "    text-align: left;\n",
       "  }\n",
       "</style><div class='table-result-container'><table class='table-result'><thead style='background-color: white'><tr><th>path</th><th>name</th><th>size</th><th>modificationTime</th></tr></thead><tbody><tr><td>dbfs:/databricks-datasets/songs/README.md</td><td>README.md</td><td>1719</td><td>1455505885000</td></tr><tr><td>dbfs:/databricks-datasets/songs/data-001/</td><td>data-001/</td><td>0</td><td>1699763348429</td></tr><tr><td>dbfs:/databricks-datasets/songs/data-002/</td><td>data-002/</td><td>0</td><td>1699763348429</td></tr></tbody></table></div>"
      ]
     },
     "metadata": {
      "application/vnd.databricks.v1+output": {
       "addedWidgets": {},
       "aggData": [],
       "aggError": "",
       "aggOverflow": false,
       "aggSchema": [],
       "aggSeriesLimitReached": false,
       "aggType": "",
       "arguments": {},
       "columnCustomDisplayInfos": {},
       "data": [
        [
         "dbfs:/databricks-datasets/songs/README.md",
         "README.md",
         1719,
         1455505885000
        ],
        [
         "dbfs:/databricks-datasets/songs/data-001/",
         "data-001/",
         0,
         1699763348429
        ],
        [
         "dbfs:/databricks-datasets/songs/data-002/",
         "data-002/",
         0,
         1699763348429
        ]
       ],
       "datasetInfos": [],
       "dbfsResultPath": null,
       "isJsonSchema": true,
       "metadata": {},
       "overflow": false,
       "plotOptions": {
        "customPlotOptions": {},
        "displayType": "table",
        "pivotAggregation": null,
        "pivotColumns": null,
        "xColumns": null,
        "yColumns": null
       },
       "removedWidgets": [],
       "schema": [
        {
         "metadata": "{}",
         "name": "path",
         "type": "\"string\""
        },
        {
         "metadata": "{}",
         "name": "name",
         "type": "\"string\""
        },
        {
         "metadata": "{}",
         "name": "size",
         "type": "\"long\""
        },
        {
         "metadata": "{}",
         "name": "modificationTime",
         "type": "\"long\""
        }
       ],
       "type": "table"
      }
     },
     "output_type": "display_data"
    }
   ],
   "source": [
    "#display(dbutils.fs.ls('dbfs:/FileStore/tables'))\n",
    "display(dbutils.fs.ls('/databricks-datasets/songs'))"
   ]
  },
  {
   "cell_type": "code",
   "execution_count": 0,
   "metadata": {
    "application/vnd.databricks.v1+cell": {
     "cellMetadata": {
      "byteLimit": 2048000,
      "rowLimit": 10000
     },
     "inputWidgets": {},
     "nuid": "5b21bbac-abe8-450d-9060-17ccf9afb5e7",
     "showTitle": false,
     "title": ""
    }
   },
   "outputs": [
    {
     "output_type": "stream",
     "name": "stdout",
     "output_type": "stream",
     "text": [
      "Sample of Million Song Dataset\n===============================\n\n## Source\nThis data is a small subset of the [Million Song Dataset](http://labrosa.ee.columbia.edu/millionsong/).\nThe original data was contributed by The Echo Nest.\nPrepared by T. Bertin-Mahieux <tb2332 '@' columbia.edu>\n\n## Attribute Information\n- artist_id:string\n- artist_latitude:double\n- artist_longitude:double\n- artist_location:string\n- artist_name:string\n- duration:double\n- end_of_fade_in:double\n- key:int\n- key_confidence:double\n- loudness:double\n- release:string\n- song_hotnes:double\n- song_id:string\n- start_of_fade_out:double\n- tempo:double\n- time_signature:double\n- time_signature_confidence:double\n- title:string\n- year:double\n- partial_sequence:int\n\n## Citation\nUsing the dataset?\n\nPlease cite the following paper [pdf](http://www.columbia.edu/~tb2332/Papers/ismir11.pdf) [bib](http://labrosa.ee.columbia.edu/millionsong/sites/default/files/millionsong_ismir11_1.bib):\n\nThierry Bertin-Mahieux, Daniel P.W. Ellis, Brian Whitman, and Paul Lamere. \nThe Million Song Dataset. In Proceedings of the 12th International Society\nfor Music Information Retrieval Conference (ISMIR 2011), 2011.\n\n## Acknowledgements\nThe Million Song Dataset was created under a grant from the National Science Foundation, project IIS-0713334. The original data was contributed by The Echo Nest, as part of an NSF-sponsored GOALI collaboration. Subsequent donations from SecondHandSongs.com, musiXmatch.com, and last.fm, as well as further donations from The Echo Nest, are gratefully acknowledged.\n\nAny opinions, findings and conclusions or recommendations expressed in this material are those of the authors and do not necessarily reflect the views of the sponsors.\n"
     ]
    }
   ],
   "source": [
    "f = open('/dbfs/databricks-datasets/songs/README.md', 'r')\n",
    "print(f.read())"
   ]
  },
  {
   "cell_type": "code",
   "execution_count": 0,
   "metadata": {
    "application/vnd.databricks.v1+cell": {
     "cellMetadata": {
      "byteLimit": 2048000,
      "rowLimit": 10000
     },
     "inputWidgets": {},
     "nuid": "27e48cb3-c458-45f2-8ea9-a3e6649f7a7b",
     "showTitle": false,
     "title": ""
    }
   },
   "outputs": [
    {
     "output_type": "execute_result",
     "data": {
      "text/plain": [
       "<pyspark.sql.streaming.query.StreamingQuery at 0x7fe1bc472110>"
      ]
     },
     "execution_count": 18,
     "metadata": {},
     "output_type": "execute_result"
    }
   ],
   "source": [
    "from pyspark.sql.types import DoubleType, IntegerType, StringType, StructType, StructField\n",
    "\n",
    "# Define variables used in the code below\n",
    "file_path = \"/databricks-datasets/songs/data-001/\"\n",
    "table_name = \"raw_song_data\" # Replace \"your_table_name\" with the desired table name\n",
    "checkpoint_path = \"/tmp/pipeline_get_started/_checkpoint/song_data\"\n",
    "\n",
    "schema = StructType(\n",
    "  [\n",
    "    StructField(\"artist_id\", StringType(), True),\n",
    "    StructField(\"artist_lat\", DoubleType(), True),\n",
    "    StructField(\"artist_long\", DoubleType(), True),\n",
    "    StructField(\"artist_location\", StringType(), True),\n",
    "    StructField(\"artist_name\", StringType(), True),\n",
    "    StructField(\"duration\", DoubleType(), True),\n",
    "    StructField(\"end_of_fade_in\", DoubleType(), True),\n",
    "    StructField(\"key\", IntegerType(), True),\n",
    "    StructField(\"key_confidence\", DoubleType(), True),\n",
    "    StructField(\"loudness\", DoubleType(), True),\n",
    "    StructField(\"release\", StringType(), True),\n",
    "    StructField(\"song_hotnes\", DoubleType(), True),\n",
    "    StructField(\"song_id\", StringType(), True),\n",
    "    StructField(\"start_of_fade_out\", DoubleType(), True),\n",
    "    StructField(\"tempo\", DoubleType(), True),\n",
    "    StructField(\"time_signature\", DoubleType(), True),\n",
    "    StructField(\"time_signature_confidence\", DoubleType(), True),\n",
    "    StructField(\"title\", StringType(), True),\n",
    "    StructField(\"year\", IntegerType(), True),\n",
    "    StructField(\"partial_sequence\", IntegerType(), True)\n",
    "  ]\n",
    ")\n",
    "\n",
    "(spark.readStream\n",
    "  .format(\"cloudFiles\")\n",
    "  .schema(schema)\n",
    "  .option(\"cloudFiles.format\", \"csv\")\n",
    "  .option(\"sep\",\"\\t\")\n",
    "  .load(file_path)\n",
    "  .writeStream\n",
    "  .option(\"checkpointLocation\", checkpoint_path)\n",
    "  .trigger(availableNow=True)\n",
    "  .toTable(table_name)\n",
    ")"
   ]
  }
 ],
 "metadata": {
  "application/vnd.databricks.v1+notebook": {
   "dashboards": [],
   "language": "python",
   "notebookMetadata": {
    "mostRecentlyExecutedCommandWithImplicitDF": {
     "commandId": 3700599190458607,
     "dataframes": [
      "_sqldf"
     ]
    },
    "pythonIndentUnit": 4
   },
   "notebookName": "Ingest songs data",
   "widgets": {}
  }
 },
 "nbformat": 4,
 "nbformat_minor": 0
}
